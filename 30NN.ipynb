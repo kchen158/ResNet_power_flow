{
 "cells": [
  {
   "cell_type": "code",
   "execution_count": 1,
   "metadata": {},
   "outputs": [],
   "source": [
    "import argparse\n",
    "import os\n",
    "import numpy as np\n",
    "import math\n",
    "import sys\n",
    "import torch\n",
    "import torch.distributions as distributions\n",
    "import torchvision.transforms as transforms\n",
    "from torchvision.utils import save_image\n",
    "import torch.utils.data as Data\n",
    "from torch.utils.data import DataLoader\n",
    "from torchvision import datasets\n",
    "from torch.autograd import Variable\n",
    "import torch.nn as nn\n",
    "import torch.nn.functional as F\n",
    "import torch\n",
    "from scipy.io import savemat\n",
    "import scipy.io as sio\n",
    "import sys\n",
    "import importlib\n",
    "import datetime\n",
    "import itertools\n",
    "import pickle\n",
    "import scipy\n",
    "import matplotlib\n",
    "import matplotlib.pyplot as plt\n",
    "import random\n",
    "from numpy import cov\n",
    "from numpy import trace\n",
    "from numpy import iscomplexobj\n",
    "from numpy.random import random\n",
    "from scipy.linalg import sqrtm\n",
    "from sklearn.preprocessing import MinMaxScaler\n",
    "from sklearn.model_selection import GridSearchCV "
   ]
  },
  {
   "cell_type": "code",
   "execution_count": 2,
   "metadata": {},
   "outputs": [],
   "source": [
    "data_dir = \"data/case30\"\n",
    "case_dir = os.path.join(data_dir)\n",
    "number = 20000\n",
    "train_index = 12000\n",
    "valid_index = 16000\n",
    "saveFile = \"data/case30/FC_out/S1\""
   ]
  },
  {
   "cell_type": "code",
   "execution_count": 4,
   "metadata": {},
   "outputs": [
    {
     "name": "stdout",
     "output_type": "stream",
     "text": [
      "torch.Size([14000, 53])\n",
      "torch.Size([12000, 53])\n",
      "torch.Size([4000, 53])\n"
     ]
    }
   ],
   "source": [
    "#input data\n",
    "mat_input = os.path.join(case_dir, 'inputdata_sample.mat')\n",
    "PQ_injection = np.transpose(scipy.io.loadmat(mat_input)['sampledata'])[0:number,:]\n",
    "P_injection = PQ_injection.real\n",
    "Q_injection = PQ_injection.imag\n",
    "# print(Q_injection.shape)\n",
    "pv = [1-1,2-1,13-1,22-1,23-1,27-1]\n",
    "slack = 1-1\n",
    "P_injection = np.delete(P_injection,slack,1)\n",
    "Q_injection = np.delete(Q_injection,pv,1)\n",
    "# print(Q_injection.shape)\n",
    "PQ_injection = np.concatenate([P_injection, Q_injection], axis=1)      \n",
    "#output data\n",
    "mat_ang = os.path.join(case_dir, 'voltage_ang_reduced.mat')\n",
    "mat_mag = os.path.join(case_dir, 'voltage_mag_reduced.mat')\n",
    "voltage_ang = np.transpose(scipy.io.loadmat(mat_ang)['voltage_ang_reduced'])[0:number,:]\n",
    "voltage_mag = np.transpose(scipy.io.loadmat(mat_mag)['voltage_mag_reduced'])[0:number,:]\n",
    "voltage =  np.concatenate([voltage_ang,voltage_mag], axis=1) \n",
    "yTrain = torch.from_numpy(voltage[0:train_index,:])\n",
    "xTrain = torch.from_numpy(PQ_injection[0:train_index,:])\n",
    "yValid = torch.from_numpy(voltage[train_index:valid_index,:])\n",
    "xValid = torch.from_numpy(PQ_injection[train_index:valid_index,:])\n",
    "yTest = torch.from_numpy(voltage[valid_index:number,:])\n",
    "xTest = torch.from_numpy(PQ_injection[valid_index:number,:])\n",
    "dataset = torch.utils.data.TensorDataset(xTrain, yTrain)\n",
    "print(xValid.shape)\n",
    "print(xTrain.shape)\n",
    "print(xTest.shape)"
   ]
  },
  {
   "cell_type": "code",
   "execution_count": 5,
   "metadata": {},
   "outputs": [
    {
     "name": "stdout",
     "output_type": "stream",
     "text": [
      "Namespace(batch_size=32, hidden_dim=100, img_size=53, labels_dim=53, lr=1e-05, n_cpu=8, n_epochs=400)\n"
     ]
    }
   ],
   "source": [
    "parser = argparse.ArgumentParser()\n",
    "parser.add_argument(\"--n_epochs\", type=int, default=400, help=\"number of epochs of training\")\n",
    "parser.add_argument(\"--batch_size\", type=int, default=32, help=\"size of the batches\")\n",
    "parser.add_argument(\"--lr\", type=float, default=0.00001, help=\"learning rate\")\n",
    "parser.add_argument(\"--n_cpu\", type=int, default=8, help=\"number of cpu threads to use during batch generation\")\n",
    "parser.add_argument(\"--labels_dim\", type=int, default=53, help=\"dimensionality of the latent space\")\n",
    "parser.add_argument(\"--img_size\", type=int, default=53, help=\"size of each image dimension\")\n",
    "parser.add_argument(\"--hidden_dim\", type=int, default=100, help=\"size of hidden_dim\")\n",
    "opt = parser.parse_args(args=[])\n",
    "print(opt)"
   ]
  },
  {
   "cell_type": "code",
   "execution_count": 6,
   "metadata": {},
   "outputs": [],
   "source": [
    "cuda = True if torch.cuda.is_available() else False\n",
    "# Initialize generator and discriminator\n",
    "time = []\n",
    "loss_train = []  \n",
    "loss_valid = [] \n",
    "batch_loss_train = [] \n",
    "avg_train_losses = []\n",
    "class FC(nn.Module):\n",
    "    def __init__(self):\n",
    "        super(FC, self).__init__()\n",
    "\n",
    "        def block(in_feat, out_feat):\n",
    "            layers = [nn.Linear(in_feat, out_feat)]\n",
    "            layers.append(nn.ReLU(inplace=True))\n",
    "            return layers\n",
    "\n",
    "        self.model = nn.Sequential(\n",
    "            *block(opt.labels_dim, opt.hidden_dim),\n",
    "            *block(opt.hidden_dim, opt.hidden_dim),\n",
    "            #*block(opt.hidden_dim, opt.hidden_dim),\n",
    "            nn.Linear(opt.hidden_dim, opt.img_size),\n",
    "        )\n",
    "    def forward(self, z):\n",
    "        out = self.model(z)\n",
    "        return out\n",
    "# Initialize generator and discriminator\n",
    "MLP = FC()\n",
    "L2_loss = nn.MSELoss()\n",
    "if cuda:\n",
    "    MLP.cuda()\n",
    "    L2_loss.cuda()\n",
    "# Configure data loader\n",
    "dataloader = torch.utils.data.DataLoader(\n",
    "    dataset,\n",
    "    batch_size=opt.batch_size,\n",
    "    shuffle=True,\n",
    ")\n",
    "\n",
    "# Optimizers\n",
    "optimizer = torch.optim.Adam(MLP.parameters(), lr=opt.lr)\n",
    "Tensor = torch.cuda.FloatTensor if cuda else torch.FloatTensor"
   ]
  },
  
    {
     "ename": "KeyboardInterrupt",
     "evalue": "",
     "output_type": "error",
     "traceback": [
      "\u001b[0;31m---------------------------------------------------------------------------\u001b[0m",
      "\u001b[0;31mKeyboardInterrupt\u001b[0m                         Traceback (most recent call last)",
      "\u001b[0;32m/var/folders/g4/8glkff2d3fqckvzhxxjf1fxc0000gn/T/ipykernel_88556/3625528245.py\u001b[0m in \u001b[0;36m<module>\u001b[0;34m\u001b[0m\n\u001b[1;32m     16\u001b[0m \u001b[0;34m\u001b[0m\u001b[0m\n\u001b[1;32m     17\u001b[0m             \u001b[0;31m# Generate a batch of samples\u001b[0m\u001b[0;34m\u001b[0m\u001b[0;34m\u001b[0m\u001b[0;34m\u001b[0m\u001b[0m\n\u001b[0;32m---> 18\u001b[0;31m             \u001b[0myHatTrain\u001b[0m \u001b[0;34m=\u001b[0m \u001b[0mMLP\u001b[0m\u001b[0;34m(\u001b[0m\u001b[0mxTrain\u001b[0m\u001b[0;34m.\u001b[0m\u001b[0mfloat\u001b[0m\u001b[0;34m(\u001b[0m\u001b[0;34m)\u001b[0m\u001b[0;34m)\u001b[0m\u001b[0;34m\u001b[0m\u001b[0;34m\u001b[0m\u001b[0m\n\u001b[0m\u001b[1;32m     19\u001b[0m \u001b[0;34m\u001b[0m\u001b[0m\n\u001b[1;32m     20\u001b[0m             \u001b[0;31m# Compute loss\u001b[0m\u001b[0;34m\u001b[0m\u001b[0;34m\u001b[0m\u001b[0;34m\u001b[0m\u001b[0m\n",
      "\u001b[0;32m/opt/anaconda3/lib/python3.7/site-packages/torch/nn/modules/module.py\u001b[0m in \u001b[0;36m_call_impl\u001b[0;34m(self, *input, **kwargs)\u001b[0m\n\u001b[1;32m   1049\u001b[0m         if not (self._backward_hooks or self._forward_hooks or self._forward_pre_hooks or _global_backward_hooks\n\u001b[1;32m   1050\u001b[0m                 or _global_forward_hooks or _global_forward_pre_hooks):\n\u001b[0;32m-> 1051\u001b[0;31m             \u001b[0;32mreturn\u001b[0m \u001b[0mforward_call\u001b[0m\u001b[0;34m(\u001b[0m\u001b[0;34m*\u001b[0m\u001b[0minput\u001b[0m\u001b[0;34m,\u001b[0m \u001b[0;34m**\u001b[0m\u001b[0mkwargs\u001b[0m\u001b[0;34m)\u001b[0m\u001b[0;34m\u001b[0m\u001b[0;34m\u001b[0m\u001b[0m\n\u001b[0m\u001b[1;32m   1052\u001b[0m         \u001b[0;31m# Do not call functions when jit is used\u001b[0m\u001b[0;34m\u001b[0m\u001b[0;34m\u001b[0m\u001b[0;34m\u001b[0m\u001b[0m\n\u001b[1;32m   1053\u001b[0m         \u001b[0mfull_backward_hooks\u001b[0m\u001b[0;34m,\u001b[0m \u001b[0mnon_full_backward_hooks\u001b[0m \u001b[0;34m=\u001b[0m \u001b[0;34m[\u001b[0m\u001b[0;34m]\u001b[0m\u001b[0;34m,\u001b[0m \u001b[0;34m[\u001b[0m\u001b[0;34m]\u001b[0m\u001b[0;34m\u001b[0m\u001b[0;34m\u001b[0m\u001b[0m\n",
      "\u001b[0;32m/var/folders/g4/8glkff2d3fqckvzhxxjf1fxc0000gn/T/ipykernel_88556/3179908668.py\u001b[0m in \u001b[0;36mforward\u001b[0;34m(self, z)\u001b[0m\n\u001b[1;32m     22\u001b[0m         )\n\u001b[1;32m     23\u001b[0m     \u001b[0;32mdef\u001b[0m \u001b[0mforward\u001b[0m\u001b[0;34m(\u001b[0m\u001b[0mself\u001b[0m\u001b[0;34m,\u001b[0m \u001b[0mz\u001b[0m\u001b[0;34m)\u001b[0m\u001b[0;34m:\u001b[0m\u001b[0;34m\u001b[0m\u001b[0;34m\u001b[0m\u001b[0m\n\u001b[0;32m---> 24\u001b[0;31m         \u001b[0mout\u001b[0m \u001b[0;34m=\u001b[0m \u001b[0mself\u001b[0m\u001b[0;34m.\u001b[0m\u001b[0mmodel\u001b[0m\u001b[0;34m(\u001b[0m\u001b[0mz\u001b[0m\u001b[0;34m)\u001b[0m\u001b[0;34m\u001b[0m\u001b[0;34m\u001b[0m\u001b[0m\n\u001b[0m\u001b[1;32m     25\u001b[0m         \u001b[0;32mreturn\u001b[0m \u001b[0mout\u001b[0m\u001b[0;34m\u001b[0m\u001b[0;34m\u001b[0m\u001b[0m\n\u001b[1;32m     26\u001b[0m \u001b[0;31m# Initialize generator and discriminator\u001b[0m\u001b[0;34m\u001b[0m\u001b[0;34m\u001b[0m\u001b[0;34m\u001b[0m\u001b[0m\n",
      "\u001b[0;32m/opt/anaconda3/lib/python3.7/site-packages/torch/nn/modules/module.py\u001b[0m in \u001b[0;36m_call_impl\u001b[0;34m(self, *input, **kwargs)\u001b[0m\n\u001b[1;32m   1049\u001b[0m         if not (self._backward_hooks or self._forward_hooks or self._forward_pre_hooks or _global_backward_hooks\n\u001b[1;32m   1050\u001b[0m                 or _global_forward_hooks or _global_forward_pre_hooks):\n\u001b[0;32m-> 1051\u001b[0;31m             \u001b[0;32mreturn\u001b[0m \u001b[0mforward_call\u001b[0m\u001b[0;34m(\u001b[0m\u001b[0;34m*\u001b[0m\u001b[0minput\u001b[0m\u001b[0;34m,\u001b[0m \u001b[0;34m**\u001b[0m\u001b[0mkwargs\u001b[0m\u001b[0;34m)\u001b[0m\u001b[0;34m\u001b[0m\u001b[0;34m\u001b[0m\u001b[0m\n\u001b[0m\u001b[1;32m   1052\u001b[0m         \u001b[0;31m# Do not call functions when jit is used\u001b[0m\u001b[0;34m\u001b[0m\u001b[0;34m\u001b[0m\u001b[0;34m\u001b[0m\u001b[0m\n\u001b[1;32m   1053\u001b[0m         \u001b[0mfull_backward_hooks\u001b[0m\u001b[0;34m,\u001b[0m \u001b[0mnon_full_backward_hooks\u001b[0m \u001b[0;34m=\u001b[0m \u001b[0;34m[\u001b[0m\u001b[0;34m]\u001b[0m\u001b[0;34m,\u001b[0m \u001b[0;34m[\u001b[0m\u001b[0;34m]\u001b[0m\u001b[0;34m\u001b[0m\u001b[0;34m\u001b[0m\u001b[0m\n",
      "\u001b[0;32m/opt/anaconda3/lib/python3.7/site-packages/torch/nn/modules/container.py\u001b[0m in \u001b[0;36mforward\u001b[0;34m(self, input)\u001b[0m\n\u001b[1;32m    137\u001b[0m     \u001b[0;32mdef\u001b[0m \u001b[0mforward\u001b[0m\u001b[0;34m(\u001b[0m\u001b[0mself\u001b[0m\u001b[0;34m,\u001b[0m \u001b[0minput\u001b[0m\u001b[0;34m)\u001b[0m\u001b[0;34m:\u001b[0m\u001b[0;34m\u001b[0m\u001b[0;34m\u001b[0m\u001b[0m\n\u001b[1;32m    138\u001b[0m         \u001b[0;32mfor\u001b[0m \u001b[0mmodule\u001b[0m \u001b[0;32min\u001b[0m \u001b[0mself\u001b[0m\u001b[0;34m:\u001b[0m\u001b[0;34m\u001b[0m\u001b[0;34m\u001b[0m\u001b[0m\n\u001b[0;32m--> 139\u001b[0;31m             \u001b[0minput\u001b[0m \u001b[0;34m=\u001b[0m \u001b[0mmodule\u001b[0m\u001b[0;34m(\u001b[0m\u001b[0minput\u001b[0m\u001b[0;34m)\u001b[0m\u001b[0;34m\u001b[0m\u001b[0;34m\u001b[0m\u001b[0m\n\u001b[0m\u001b[1;32m    140\u001b[0m         \u001b[0;32mreturn\u001b[0m \u001b[0minput\u001b[0m\u001b[0;34m\u001b[0m\u001b[0;34m\u001b[0m\u001b[0m\n\u001b[1;32m    141\u001b[0m \u001b[0;34m\u001b[0m\u001b[0m\n",
      "\u001b[0;32m/opt/anaconda3/lib/python3.7/site-packages/torch/nn/modules/module.py\u001b[0m in \u001b[0;36m_call_impl\u001b[0;34m(self, *input, **kwargs)\u001b[0m\n\u001b[1;32m   1049\u001b[0m         if not (self._backward_hooks or self._forward_hooks or self._forward_pre_hooks or _global_backward_hooks\n\u001b[1;32m   1050\u001b[0m                 or _global_forward_hooks or _global_forward_pre_hooks):\n\u001b[0;32m-> 1051\u001b[0;31m             \u001b[0;32mreturn\u001b[0m \u001b[0mforward_call\u001b[0m\u001b[0;34m(\u001b[0m\u001b[0;34m*\u001b[0m\u001b[0minput\u001b[0m\u001b[0;34m,\u001b[0m \u001b[0;34m**\u001b[0m\u001b[0mkwargs\u001b[0m\u001b[0;34m)\u001b[0m\u001b[0;34m\u001b[0m\u001b[0;34m\u001b[0m\u001b[0m\n\u001b[0m\u001b[1;32m   1052\u001b[0m         \u001b[0;31m# Do not call functions when jit is used\u001b[0m\u001b[0;34m\u001b[0m\u001b[0;34m\u001b[0m\u001b[0;34m\u001b[0m\u001b[0m\n\u001b[1;32m   1053\u001b[0m         \u001b[0mfull_backward_hooks\u001b[0m\u001b[0;34m,\u001b[0m \u001b[0mnon_full_backward_hooks\u001b[0m \u001b[0;34m=\u001b[0m \u001b[0;34m[\u001b[0m\u001b[0;34m]\u001b[0m\u001b[0;34m,\u001b[0m \u001b[0;34m[\u001b[0m\u001b[0;34m]\u001b[0m\u001b[0;34m\u001b[0m\u001b[0;34m\u001b[0m\u001b[0m\n",
      "\u001b[0;32m/opt/anaconda3/lib/python3.7/site-packages/torch/nn/modules/linear.py\u001b[0m in \u001b[0;36mforward\u001b[0;34m(self, input)\u001b[0m\n\u001b[1;32m     94\u001b[0m \u001b[0;34m\u001b[0m\u001b[0m\n\u001b[1;32m     95\u001b[0m     \u001b[0;32mdef\u001b[0m \u001b[0mforward\u001b[0m\u001b[0;34m(\u001b[0m\u001b[0mself\u001b[0m\u001b[0;34m,\u001b[0m \u001b[0minput\u001b[0m\u001b[0;34m:\u001b[0m \u001b[0mTensor\u001b[0m\u001b[0;34m)\u001b[0m \u001b[0;34m->\u001b[0m \u001b[0mTensor\u001b[0m\u001b[0;34m:\u001b[0m\u001b[0;34m\u001b[0m\u001b[0;34m\u001b[0m\u001b[0m\n\u001b[0;32m---> 96\u001b[0;31m         \u001b[0;32mreturn\u001b[0m \u001b[0mF\u001b[0m\u001b[0;34m.\u001b[0m\u001b[0mlinear\u001b[0m\u001b[0;34m(\u001b[0m\u001b[0minput\u001b[0m\u001b[0;34m,\u001b[0m \u001b[0mself\u001b[0m\u001b[0;34m.\u001b[0m\u001b[0mweight\u001b[0m\u001b[0;34m,\u001b[0m \u001b[0mself\u001b[0m\u001b[0;34m.\u001b[0m\u001b[0mbias\u001b[0m\u001b[0;34m)\u001b[0m\u001b[0;34m\u001b[0m\u001b[0;34m\u001b[0m\u001b[0m\n\u001b[0m\u001b[1;32m     97\u001b[0m \u001b[0;34m\u001b[0m\u001b[0m\n\u001b[1;32m     98\u001b[0m     \u001b[0;32mdef\u001b[0m \u001b[0mextra_repr\u001b[0m\u001b[0;34m(\u001b[0m\u001b[0mself\u001b[0m\u001b[0;34m)\u001b[0m \u001b[0;34m->\u001b[0m \u001b[0mstr\u001b[0m\u001b[0;34m:\u001b[0m\u001b[0;34m\u001b[0m\u001b[0;34m\u001b[0m\u001b[0m\n",
      "\u001b[0;32m/opt/anaconda3/lib/python3.7/site-packages/torch/nn/functional.py\u001b[0m in \u001b[0;36mlinear\u001b[0;34m(input, weight, bias)\u001b[0m\n\u001b[1;32m   1845\u001b[0m     \u001b[0;32mif\u001b[0m \u001b[0mhas_torch_function_variadic\u001b[0m\u001b[0;34m(\u001b[0m\u001b[0minput\u001b[0m\u001b[0;34m,\u001b[0m \u001b[0mweight\u001b[0m\u001b[0;34m)\u001b[0m\u001b[0;34m:\u001b[0m\u001b[0;34m\u001b[0m\u001b[0;34m\u001b[0m\u001b[0m\n\u001b[1;32m   1846\u001b[0m         \u001b[0;32mreturn\u001b[0m \u001b[0mhandle_torch_function\u001b[0m\u001b[0;34m(\u001b[0m\u001b[0mlinear\u001b[0m\u001b[0;34m,\u001b[0m \u001b[0;34m(\u001b[0m\u001b[0minput\u001b[0m\u001b[0;34m,\u001b[0m \u001b[0mweight\u001b[0m\u001b[0;34m)\u001b[0m\u001b[0;34m,\u001b[0m \u001b[0minput\u001b[0m\u001b[0;34m,\u001b[0m \u001b[0mweight\u001b[0m\u001b[0;34m,\u001b[0m \u001b[0mbias\u001b[0m\u001b[0;34m=\u001b[0m\u001b[0mbias\u001b[0m\u001b[0;34m)\u001b[0m\u001b[0;34m\u001b[0m\u001b[0;34m\u001b[0m\u001b[0m\n\u001b[0;32m-> 1847\u001b[0;31m     \u001b[0;32mreturn\u001b[0m \u001b[0mtorch\u001b[0m\u001b[0;34m.\u001b[0m\u001b[0m_C\u001b[0m\u001b[0;34m.\u001b[0m\u001b[0m_nn\u001b[0m\u001b[0;34m.\u001b[0m\u001b[0mlinear\u001b[0m\u001b[0;34m(\u001b[0m\u001b[0minput\u001b[0m\u001b[0;34m,\u001b[0m \u001b[0mweight\u001b[0m\u001b[0;34m,\u001b[0m \u001b[0mbias\u001b[0m\u001b[0;34m)\u001b[0m\u001b[0;34m\u001b[0m\u001b[0;34m\u001b[0m\u001b[0m\n\u001b[0m\u001b[1;32m   1848\u001b[0m \u001b[0;34m\u001b[0m\u001b[0m\n\u001b[1;32m   1849\u001b[0m \u001b[0;34m\u001b[0m\u001b[0m\n",
      "\u001b[0;31mKeyboardInterrupt\u001b[0m: "
     ]
    }
   ],
   "source": [
    "# ----------\n",
    "#  Training\n",
    "# ----------\n",
    "batches_done = 0\n",
    "for epoch in range(opt.n_epochs):\n",
    "\n",
    "    for i, (xTrain, yTrain) in enumerate(dataloader):\n",
    "            # -----------------\n",
    "            #  Train Generator\n",
    "            # -----------------\n",
    "            # Start measuring time\n",
    "            startTime = datetime.datetime.now()\n",
    "            \n",
    "            # Reset gradients\n",
    "            optimizer.zero_grad()\n",
    "            \n",
    "            # Generate a batch of samples\n",
    "            yHatTrain = MLP(xTrain.float())\n",
    "            \n",
    "            # Compute loss\n",
    "            loss = L2_loss(yHatTrain,yTrain.float())\n",
    "            \n",
    "            # Compute gradients\n",
    "            loss.backward()\n",
    "            \n",
    "            # Optimize\n",
    "            optimizer.step()\n",
    "            \n",
    "            # Finish measuring time\n",
    "            endTime = datetime.datetime.now()\n",
    "            \n",
    "            timeElapsed = abs(endTime - startTime).total_seconds()\n",
    "            \n",
    "            time.append(timeElapsed)\n",
    "            \n",
    "            batch_loss_train.append(loss.item())  \n",
    "            print(\n",
    "                \"[Epoch %d/%d] [Batch %d/%d][G loss: %.8f]\"\n",
    "                % (epoch, opt.n_epochs, batches_done % len(dataloader), len(dataloader), loss.item()))\n",
    "            #VALIDATION\n",
    "            if (batches_done % (len(yValid)//opt.batch_size) == 0):\n",
    "\n",
    "                with torch.no_grad(): \n",
    "                    yHatValid = MLP(xValid.float()) \n",
    "                    # Compute loss\n",
    "                    lossValueValid = L2_loss(yHatValid, yValid)\n",
    "                    loss_valid.append(lossValueValid.item())\n",
    "                    \n",
    "                if epoch >= 599:\n",
    "                    if (epoch == 599):\n",
    "                        bestScore = lossValueValid\n",
    "                        torch.save(MLP.state_dict(), saveFile +'Best'+'.ckpt')\n",
    "                        torch.save(optimizer.state_dict(), saveFile+'Optim'+'Best'+'.ckpt')\n",
    "                    else:\n",
    "                        thisValidScore = lossValueValid\n",
    "                        if thisValidScore < bestScore:\n",
    "                            bestScore = thisValidScore\n",
    "                            torch.save(MLP.state_dict(), saveFile + 'Best'+'.ckpt')\n",
    "                            torch.save(optimizer.state_dict(), saveFile+'Optim'+'Best'+'.ckpt') \n",
    "            batches_done += 1\n",
    "    train_loss = np.average(batch_loss_train)\n",
    "    avg_train_losses.append(train_loss)\n",
    "    batch_loss_train = []"
   ]
  },
  {
   "cell_type": "code",
   "execution_count": 9,
   "metadata": {},
   "outputs": [
    {
     "name": "stdout",
     "output_type": "stream",
     "text": [
      "0.0033677250000000037\n"
     ]
    }
   ],
   "source": [
    "print(sum(time)/opt.n_epochs)"
   ]
  },
  {
   "cell_type": "code",
   "execution_count": 168,
   "metadata": {},
   "outputs": [],
   "source": [
    "torch.save(time, saveFile + 'Time')\n",
    "torch.save(MLP.state_dict(), saveFile + 'Last'+'.ckpt')\n",
    "torch.save(optimizer.state_dict(), saveFile+'Optim'+'Last'+'.ckpt') \n",
    "np.save(saveFile+'Train',avg_train_losses)\n",
    "np.save(saveFile+'Valid',loss_valid)"
   ]
  },
  {
   "cell_type": "code",
   "execution_count": 20,
   "metadata": {},
   "outputs": [
    {
     "data": {
      "image/png": "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\n",
      "text/plain": [
       "<Figure size 432x288 with 1 Axes>"
      ]
     },
     "metadata": {
      "needs_background": "light"
     },
     "output_type": "display_data"
    }
   ],
   "source": [
    "plt.plot(avg_train_losses[200:800])\n",
    "plt.ylabel('mean squared loss')\n",
    "plt.xlabel('epoch')\n",
    "plt.title('neurons = 200')\n",
    "plt.show()"
   ]
  },
  {
   "cell_type": "code",
   "execution_count": 15,
   "metadata": {},
   "outputs": [
    {
     "data": {
      "image/png": "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\n",
      "text/plain": [
       "<Figure size 432x288 with 1 Axes>"
      ]
     },
     "metadata": {
      "needs_background": "light"
     },
     "output_type": "display_data"
    }
   ],
   "source": [
    "plt.plot(loss_valid[300:1000:4])\n",
    "plt.ylabel('mean squared loss')\n",
    "plt.xlabel('epoch')\n",
    "plt.show()"
   ]
  },
  {
   "cell_type": "code",
   "execution_count": 21,
   "metadata": {},
   "outputs": [
    {
     "name": "stdout",
     "output_type": "stream",
     "text": [
      "9.175846156055282e-07\n",
      "[0.00045288 0.00058008 0.00061395 0.00070776 0.00083425 0.00099034\n",
      " 0.00075247 0.00064424 0.00071743 0.00119712 0.001079   0.0008477\n",
      " 0.00078114 0.00091715 0.00089158 0.00082842 0.00080249 0.00094211\n",
      " 0.00096228 0.00104545 0.00070503 0.00068181 0.00084928 0.00072435\n",
      " 0.00101259 0.00087538 0.00087514 0.00104108 0.00096966 0.00062607\n",
      " 0.00052083 0.00072558 0.00061842 0.00102386 0.00075147 0.00079042\n",
      " 0.00051499 0.00095399 0.0009614  0.00137384 0.00090115 0.00099179\n",
      " 0.0008749  0.00118993 0.00127709 0.00142136 0.00058354 0.00112211\n",
      " 0.00074207 0.00279011 0.00069038 0.000779   0.00100381]\n",
      "0.0008386954185389345\n",
      "0.0009678372016926525\n"
     ]
    }
   ],
   "source": [
    "MLP.eval()\n",
    "yHatTest = MLP(xTest.float())\n",
    "rmse_test = np.mean((yHatTest.detach().numpy()-yTest.detach().numpy())**2)\n",
    "print(rmse_test)\n",
    "rmse_test1 = np.sqrt(np.mean((yHatTest.detach().numpy()-yTest.detach().numpy())**2,0))\n",
    "print(rmse_test1)\n",
    "print(np.mean(rmse_test1[0:29]))\n",
    "print(np.mean(rmse_test1[29:53]))"
   ]
  },
  {
   "cell_type": "code",
   "execution_count": 173,
   "metadata": {},
   "outputs": [],
   "source": [
    "np.save(saveFile+'rmse_test_last',rmse_test1)\n",
    "np.save(saveFile+'yHatTest_last',yHatTest.detach().numpy())"
   ]
  },
  {
   "cell_type": "code",
   "execution_count": 11,
   "metadata": {},
   "outputs": [
    {
     "name": "stdout",
     "output_type": "stream",
     "text": [
      "4.712719003545878e-08\n",
      "[1.84152989e-04 1.23225731e-04 2.22994648e-04 1.29892756e-04\n",
      " 1.51690021e-04 1.99383160e-04 1.56316603e-04 1.94782117e-04\n",
      " 2.18508642e-04 2.12015556e-04 2.16107593e-04 2.68681129e-04\n",
      " 2.32020357e-04 2.27120919e-04 2.14841316e-04 2.32141222e-04\n",
      " 2.14871557e-04 2.19791250e-04 2.16045669e-04 2.39793253e-04\n",
      " 2.42832902e-04 2.97689143e-04 2.73570821e-04 3.07780605e-04\n",
      " 3.11403848e-04 3.62099788e-04 1.64097296e-04 4.39910905e-04\n",
      " 4.55703134e-04 1.66565472e-04 1.83299850e-04 1.43887427e-04\n",
      " 1.41764203e-04 1.41500938e-04 1.56696377e-04 1.34364812e-04\n",
      " 1.36359453e-04 1.38999371e-04 1.75434643e-04 1.69762131e-04\n",
      " 1.37100751e-04 1.50400722e-04 1.22783743e-04 1.41165908e-04\n",
      " 1.21447461e-04 1.23194564e-04 6.58165215e-05 1.52249459e-04\n",
      " 1.07625287e-04 1.76149535e-04 1.62332954e-04 3.16324103e-04\n",
      " 3.20424033e-04]\n",
      "0.00023894706657246164\n",
      "0.00015773540492221243\n"
     ]
    }
   ],
   "source": [
    "model = FC()\n",
    "model.load_state_dict(torch.load(saveFile + 'Best'+'.ckpt'))\n",
    "optimizer.load_state_dict(torch.load(saveFile+'Optim'+'Best'+'.ckpt'))\n",
    "model.eval()\n",
    "yHatTest = model(xTest.float())\n",
    "rmse_test2 = np.mean((yHatTest.detach().numpy()-yTest.detach().numpy())**2)\n",
    "print(rmse_test2)\n",
    "rmse_test3 = np.sqrt(np.mean((yHatTest.detach().numpy()-yTest.detach().numpy())**2,0))\n",
    "print(rmse_test3)\n",
    "print(np.mean(rmse_test3[0:29]))\n",
    "print(np.mean(rmse_test3[29:53]))"
   ]
  },
  {
   "cell_type": "code",
   "execution_count": 175,
   "metadata": {},
   "outputs": [],
   "source": [
    "np.save(saveFile+'rmse_test_best',rmse_test3)\n",
    "np.save(saveFile+'yHatTest_best',yHatTest.detach().numpy())"
   ]
  },
  {
   "cell_type": "code",
   "execution_count": null,
   "metadata": {},
   "outputs": [],
   "source": []
  },
  {
   "cell_type": "code",
   "execution_count": null,
   "metadata": {},
   "outputs": [],
   "source": []
  },
  {
   "cell_type": "code",
   "execution_count": null,
   "metadata": {},
   "outputs": [],
   "source": []
  }
 ],
 "metadata": {
  "kernelspec": {
   "display_name": "Python 3 (ipykernel)",
   "language": "python",
   "name": "python3"
  },
  "language_info": {
   "codemirror_mode": {
    "name": "ipython",
    "version": 3
   },
   "file_extension": ".py",
   "mimetype": "text/x-python",
   "name": "python",
   "nbconvert_exporter": "python",
   "pygments_lexer": "ipython3",
   "version": "3.7.4"
  }
 },
 "nbformat": 4,
 "nbformat_minor": 2
}
