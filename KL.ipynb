{
 "cells": [
  {
   "cell_type": "code",
   "execution_count": 1,
   "metadata": {},
   "outputs": [],
   "source": [
    "import torch\n",
    "import numpy as np\n",
    "import matplotlib\n",
    "import matplotlib.pyplot as plt\n",
    "import scipy\n",
    "import os\n",
    "from scipy.io import savemat\n",
    "from matplotlib.ticker import FuncFormatter\n",
    "import torch.nn as nn\n",
    "import torch.nn.functional as F\n",
    "import torch\n",
    "from scipy.stats import wasserstein_distance"
   ]
  },
  {
   "cell_type": "code",
   "execution_count": 2,
   "metadata": {},
   "outputs": [
    {
     "name": "stdout",
     "output_type": "stream",
     "text": [
      "torch.Size([4000, 53])\n"
     ]
    }
   ],
   "source": [
    "data_dir = \"data/case30\"\n",
    "case_dir = os.path.join(data_dir)\n",
    "number = 20000\n",
    "train_index = 12000\n",
    "valid_index = 16000\n",
    "\n",
    "mat_ang = os.path.join(case_dir, 'voltage_ang_reduced.mat')\n",
    "mat_mag = os.path.join(case_dir, 'voltage_mag_reduced.mat')\n",
    "voltage_ang = np.transpose(scipy.io.loadmat(mat_ang)['voltage_ang_reduced'])[0:number,:]\n",
    "voltage_mag = np.transpose(scipy.io.loadmat(mat_mag)['voltage_mag_reduced'])[0:number,:]\n",
    "voltage =  np.concatenate([voltage_ang,voltage_mag], axis=1) \n",
    "\n",
    "yTest = torch.from_numpy(voltage[valid_index:number,:])\n",
    "print(yTest.shape)"
   ]
  },
  {
   "cell_type": "code",
   "execution_count": 3,
   "metadata": {},
   "outputs": [],
   "source": [
    "torch.set_printoptions(precision=8)"
   ]
  },
  {
   "cell_type": "code",
   "execution_count": 4,
   "metadata": {},
   "outputs": [
    {
     "name": "stdout",
     "output_type": "stream",
     "text": [
      "torch.Size([4000, 53])\n",
      "tensor([3.56764358e-05, 4.73090731e-05, 4.68688631e-05, 4.79610608e-05,\n",
      "        6.39884165e-05, 5.57879648e-05, 6.77917560e-05, 8.36196996e-05,\n",
      "        8.43055677e-05, 8.79343424e-05, 8.22428628e-05, 8.28514385e-05,\n",
      "        8.72300297e-05, 9.60699472e-05, 8.77437124e-05, 9.08516013e-05,\n",
      "        8.85827758e-05, 9.36590877e-05, 8.59662832e-05, 9.14722623e-05,\n",
      "        9.24071937e-05, 1.09275890e-04, 1.00701625e-04, 1.05542138e-04,\n",
      "        1.07342836e-04, 1.20732679e-04, 6.95097842e-05, 1.45945509e-04,\n",
      "        1.47534287e-04, 3.91957474e-05, 5.20406356e-05, 3.17904305e-05,\n",
      "        3.79290032e-05, 3.44429172e-05, 5.09381607e-05, 3.02937624e-05,\n",
      "        1.91104100e-05, 3.57534482e-05, 4.01287289e-05, 2.87126695e-05,\n",
      "        3.58826510e-05, 3.27757116e-05, 5.28513447e-05, 5.06860961e-05,\n",
      "        5.33098901e-05, 2.54731149e-05, 3.28224633e-05, 3.18991988e-05,\n",
      "        3.30355069e-05, 5.58292668e-05, 3.69225345e-05, 1.91197381e-04,\n",
      "        2.06668337e-04])\n",
      "tensor(0.86445010)\n",
      "tensor(0.51653725)\n"
     ]
    }
   ],
   "source": [
    "saveFile = \"data/case30/FC_out/hidden_dim100/S2\"\n",
    "yHatTest_best_mean_FC = torch.from_numpy(np.load(saveFile+'yHatTest_best_mean.npy'))\n",
    "print(yHatTest_best_mean_FC.shape)\n",
    "\n",
    "wd_FC = []\n",
    "for i in range(53):\n",
    "    wd = wasserstein_distance(yTest[:,i], yHatTest_best_mean_FC[:,i])\n",
    "    wd_FC.append(wd)\n",
    "wd_FC = torch.Tensor(wd_FC)\n",
    "\n",
    "print(wd_FC)\n",
    "print(torch.mean(wd_FC[0:29])/ 0.0001)\n",
    "print(torch.mean(wd_FC[29:53])/ 0.0001)"
   ]
  },
  {
   "cell_type": "code",
   "execution_count": 5,
   "metadata": {},
   "outputs": [
    {
     "name": "stdout",
     "output_type": "stream",
     "text": [
      "tensor([[-0.03157187, -0.06218296, -0.07421317,  ...,  0.95265043,\n",
      "          0.92455530,  0.88880301],\n",
      "        [ 0.01437821, -0.01264628, -0.01385455,  ...,  0.96724015,\n",
      "          0.92554319,  0.90823573],\n",
      "        [-0.01697393, -0.04919211, -0.05839223,  ...,  0.95831758,\n",
      "          0.94059068,  0.91630995],\n",
      "        ...,\n",
      "        [ 0.01335582, -0.00624246, -0.00616226,  ...,  0.97145623,\n",
      "          0.92458856,  0.89849883],\n",
      "        [-0.01873663, -0.05867827, -0.06996824,  ...,  0.94923067,\n",
      "          0.92260468,  0.90996331],\n",
      "        [ 0.00104564, -0.02710770, -0.03155383,  ...,  0.96343148,\n",
      "          0.91690147,  0.90256500]])\n"
     ]
    }
   ],
   "source": [
    "print(yHatTest_best_mean_FC)"
   ]
  },
  {
   "cell_type": "code",
   "execution_count": 6,
   "metadata": {},
   "outputs": [
    {
     "name": "stdout",
     "output_type": "stream",
     "text": [
      "tensor([7.52879932e-05, 7.64145589e-05, 1.05390136e-04, 1.02890670e-04,\n",
      "        1.35127062e-04, 1.28312997e-04, 1.51578803e-04, 2.12784827e-04,\n",
      "        2.27996687e-04, 2.14213826e-04, 1.92839230e-04, 1.76122121e-04,\n",
      "        2.10806073e-04, 2.29887475e-04, 2.12234329e-04, 2.24631352e-04,\n",
      "        2.33207524e-04, 2.35250147e-04, 2.32544146e-04, 2.53288134e-04,\n",
      "        2.61564594e-04, 2.80875480e-04, 2.69583456e-04, 2.69816053e-04,\n",
      "        2.70989287e-04, 2.77821935e-04, 1.61649616e-04, 2.95218983e-04,\n",
      "        3.00618703e-04, 1.23082573e-04, 1.20145451e-04, 5.74402875e-05,\n",
      "        1.09397239e-04, 8.78157298e-05, 1.12821283e-04, 3.83138868e-05,\n",
      "        1.13723490e-05, 3.73003932e-05, 3.23110289e-05, 2.48089364e-05,\n",
      "        1.94152635e-05, 2.38834527e-05, 1.38447485e-05, 1.51362210e-05,\n",
      "        1.21375915e-05, 1.13350898e-05, 2.71555837e-06, 8.45022169e-06,\n",
      "        1.52097318e-05, 5.11111466e-05, 1.23328631e-04, 1.85344834e-04,\n",
      "        2.03241609e-04])\n",
      "tensor(2.07549882)\n",
      "tensor(0.59998471)\n"
     ]
    }
   ],
   "source": [
    "saveFile = \"data/case30/LR_out/LR_out\"\n",
    "yHatTest_best_mean_LR = torch.from_numpy(np.load(saveFile+'yHatTest_best.npy'))\n",
    "\n",
    "wd_LR = []\n",
    "for i in range(53):\n",
    "    wd = wasserstein_distance(yTest[:,i], yHatTest_best_mean_LR[:,i])\n",
    "    wd_LR.append(wd)\n",
    "    \n",
    "wd_LR = torch.Tensor(wd_LR)\n",
    "\n",
    "print(wd_LR)\n",
    "print(torch.mean(wd_LR[0:29])/ 0.0001)\n",
    "print(torch.mean(wd_LR[29:53])/ 0.0001)"
   ]
  },
  {
   "cell_type": "code",
   "execution_count": 7,
   "metadata": {},
   "outputs": [
    {
     "name": "stdout",
     "output_type": "stream",
     "text": [
      "tensor([[-0.03154915, -0.06235278, -0.07415879,  ...,  0.95265453,\n",
      "          0.92456699,  0.88881422],\n",
      "        [ 0.01452604, -0.01251116, -0.01367367,  ...,  0.96750754,\n",
      "          0.92553970,  0.90824237],\n",
      "        [-0.01705299, -0.04936830, -0.05846079,  ...,  0.95810817,\n",
      "          0.94071741,  0.91640618],\n",
      "        ...,\n",
      "        [ 0.01353708, -0.00600337, -0.00579336,  ...,  0.97194744,\n",
      "          0.92464145,  0.89853910],\n",
      "        [-0.01856125, -0.05847220, -0.06981204,  ...,  0.94958592,\n",
      "          0.92260769,  0.90997718],\n",
      "        [ 0.00097786, -0.02718318, -0.03148452,  ...,  0.96363609,\n",
      "          0.91695197,  0.90259371]], dtype=torch.float64)\n"
     ]
    }
   ],
   "source": [
    "print(yHatTest_best_mean_LR)"
   ]
  },
  {
   "cell_type": "code",
   "execution_count": 8,
   "metadata": {},
   "outputs": [
    {
     "name": "stdout",
     "output_type": "stream",
     "text": [
      "torch.Size([4000, 53])\n",
      "tensor([1.31655682e-03, 6.33460237e-04, 8.11734644e-04, 2.80903326e-03,\n",
      "        4.47076000e-03, 3.82095366e-03, 5.38374577e-03, 5.95247513e-03,\n",
      "        6.33202167e-03, 6.11356460e-03, 2.25206465e-02, 5.26809990e-02,\n",
      "        1.78338587e-02, 1.32736992e-02, 1.01019684e-02, 1.68495066e-03,\n",
      "        6.39145961e-03, 2.67645973e-03, 1.42785104e-03, 1.06019489e-02,\n",
      "        1.18270414e-02, 2.51390529e-03, 1.35647664e-02, 3.65961492e-02,\n",
      "        3.69591899e-02, 5.05041145e-02, 9.71492939e-03, 5.21379188e-02,\n",
      "        5.30181974e-02, 3.77991993e-04, 4.12625144e-04, 4.91657469e-04,\n",
      "        9.09853552e-04, 7.95053900e-04, 1.14941259e-03, 6.00842235e-04,\n",
      "        8.85663903e-05, 6.78778975e-04, 2.21215538e-03, 2.26242584e-03,\n",
      "        7.18694646e-04, 3.94658156e-04, 1.65775200e-04, 7.21643300e-05,\n",
      "        2.14794636e-04, 1.94061344e-04, 3.22353699e-05, 4.64000404e-05,\n",
      "        5.23234718e-04, 1.31922844e-03, 2.29868223e-03, 4.36929474e-03,\n",
      "        5.44443121e-03])\n",
      "tensor(152.99114990)\n",
      "tensor(10.73875809)\n"
     ]
    }
   ],
   "source": [
    "saveFile = \"data/case30/cumulant/\"\n",
    "yHatTest_best_mean_cumu = torch.from_numpy(np.transpose(scipy.io.loadmat(saveFile+'estimation_voltage.mat')['estimation_voltage'])[valid_index:number,:])\n",
    "print(yHatTest_best_mean_cumu.shape)\n",
    "wd_cumu = []\n",
    "for i in range(53):\n",
    "    wd = wasserstein_distance(yTest[:,i], yHatTest_best_mean_cumu[:,i])\n",
    "    wd_cumu.append(wd)\n",
    "    \n",
    "wd_cumu = torch.Tensor(wd_cumu)\n",
    "\n",
    "print(wd_cumu)\n",
    "print(torch.mean(wd_cumu[0:29]) / 0.0001)\n",
    "print(torch.mean(wd_cumu[29:53])/ 0.0001)"
   ]
  },
  {
   "cell_type": "code",
   "execution_count": 9,
   "metadata": {},
   "outputs": [
    {
     "name": "stdout",
     "output_type": "stream",
     "text": [
      "tensor([[-0.03000697, -0.06167847, -0.07324889,  ...,  0.95665620,\n",
      "          0.92901691,  0.89569514],\n",
      "        [ 0.01548318, -0.01231438, -0.01348831,  ...,  0.96807803,\n",
      "          0.92915907,  0.91231529],\n",
      "        [-0.01635511, -0.04834589, -0.05715682,  ...,  0.95806702,\n",
      "          0.94240488,  0.91903582],\n",
      "        ...,\n",
      "        [ 0.01446143, -0.00586476, -0.00570600,  ...,  0.97151616,\n",
      "          0.92871576,  0.90402548],\n",
      "        [-0.01688931, -0.05792273, -0.06904236,  ...,  0.95284410,\n",
      "          0.92642849,  0.91380101],\n",
      "        [ 0.00236634, -0.02723770, -0.03156646,  ...,  0.96634437,\n",
      "          0.92169437,  0.90762322]], dtype=torch.float64)\n"
     ]
    }
   ],
   "source": [
    "print(yHatTest_best_mean_cumu)"
   ]
  },
  {
   "cell_type": "code",
   "execution_count": 10,
   "metadata": {},
   "outputs": [
    {
     "name": "stdout",
     "output_type": "stream",
     "text": [
      "torch.Size([4000, 53])\n",
      "tensor([2.16172170e-03, 1.77854119e-04, 8.72761957e-05, 3.22812179e-04,\n",
      "        3.73698887e-04, 1.76748348e-04, 1.40191289e-04, 1.85052457e-04,\n",
      "        1.09710825e-04, 1.29680062e-04, 1.35035589e-04, 1.93311760e-04,\n",
      "        9.98989490e-05, 2.98561645e-04, 1.40893069e-04, 1.35855196e-04,\n",
      "        1.44710968e-04, 9.13951590e-05, 9.57899247e-05, 1.40922028e-04,\n",
      "        1.35894312e-04, 1.50101361e-04, 1.01393707e-04, 1.18162759e-04,\n",
      "        1.58446259e-04, 1.87896221e-04, 2.69147975e-04, 2.13151681e-04,\n",
      "        1.80739866e-04, 9.13517943e-05, 1.27020321e-04, 1.66394471e-04,\n",
      "        1.34970454e-04, 2.56308180e-04, 3.68021720e-04, 2.39432571e-04,\n",
      "        4.13799280e-05, 2.45058851e-04, 2.47851596e-04, 1.24909391e-04,\n",
      "        8.19716297e-05, 2.09243226e-04, 2.15742315e-04, 7.96891982e-05,\n",
      "        3.63538566e-05, 2.83260670e-05, 1.47512677e-04, 2.93485413e-04,\n",
      "        9.81838457e-05, 1.72208325e-04, 8.30730496e-05, 2.26377364e-04,\n",
      "        2.51648744e-04])\n",
      "tensor(2.36415648)\n",
      "tensor(1.65271461)\n"
     ]
    }
   ],
   "source": [
    "saveFile = \"data/case30/AD_TPBNN/hidden_dim100/S9\"\n",
    "yHatTest_best_mean_AD = torch.from_numpy(np.load(saveFile+'yHatTest_best_mean_voltage.npy'))\n",
    "print(yHatTest_best_mean_AD.shape)\n",
    "\n",
    "wd_AD = []\n",
    "for i in range(53):\n",
    "    wd = wasserstein_distance(yTest[:,i], yHatTest_best_mean_AD[:,i])\n",
    "    wd_AD.append(wd)\n",
    "    \n",
    "wd_AD = torch.Tensor(wd_AD)\n",
    "\n",
    "print(wd_AD)\n",
    "print(torch.mean(wd_AD[0:29])/ 0.0001)\n",
    "print(torch.mean(wd_AD[29:53])/ 0.0001)"
   ]
  },
  {
   "cell_type": "code",
   "execution_count": 11,
   "metadata": {},
   "outputs": [
    {
     "name": "stdout",
     "output_type": "stream",
     "text": [
      "tensor([[-0.03508742, -0.06160356, -0.07411993,  ...,  0.95260197,\n",
      "          0.92474818,  0.88882804],\n",
      "        [ 0.01682156, -0.01322402, -0.01453117,  ...,  0.96715146,\n",
      "          0.92572689,  0.90900314],\n",
      "        [-0.01782929, -0.04935094, -0.05832072,  ...,  0.95795840,\n",
      "          0.94036680,  0.91594797],\n",
      "        ...,\n",
      "        [ 0.01313087, -0.00608573, -0.00654151,  ...,  0.97124189,\n",
      "          0.92693615,  0.90072268],\n",
      "        [-0.01472053, -0.05955024, -0.07002170,  ...,  0.94895440,\n",
      "          0.92275715,  0.91027898],\n",
      "        [ 0.00313243, -0.02706769, -0.03115339,  ...,  0.96331269,\n",
      "          0.91707271,  0.90319014]])\n"
     ]
    }
   ],
   "source": [
    "print(yHatTest_best_mean_AD)"
   ]
  },
  {
   "cell_type": "code",
   "execution_count": 12,
   "metadata": {},
   "outputs": [
    {
     "name": "stdout",
     "output_type": "stream",
     "text": [
      "torch.Size([4000, 53])\n",
      "tensor([3.28977876e-05, 3.03384368e-05, 3.56487253e-05, 3.35400291e-05,\n",
      "        4.32778361e-05, 4.46896411e-05, 5.01557370e-05, 6.48652640e-05,\n",
      "        7.45769066e-05, 6.54774049e-05, 6.85015766e-05, 7.38882372e-05,\n",
      "        7.41577387e-05, 7.57622111e-05, 7.00965902e-05, 7.82254720e-05,\n",
      "        7.71338746e-05, 7.41024778e-05, 7.40774340e-05, 7.71904379e-05,\n",
      "        8.11777281e-05, 8.64704998e-05, 8.20215573e-05, 9.35056596e-05,\n",
      "        9.30840906e-05, 1.00879042e-04, 5.06116048e-05, 1.24349594e-04,\n",
      "        1.26021332e-04, 2.91889501e-05, 2.88831325e-05, 1.85606259e-05,\n",
      "        2.50018620e-05, 2.23227962e-05, 2.80079785e-05, 1.74496108e-05,\n",
      "        1.47525916e-05, 1.96902911e-05, 2.27768232e-05, 1.93975648e-05,\n",
      "        1.38274600e-05, 1.96917263e-05, 1.59029587e-05, 1.50484275e-05,\n",
      "        2.04975458e-05, 1.43818306e-05, 1.41669625e-05, 9.80031018e-06,\n",
      "        1.83927750e-05, 5.24399984e-05, 2.71747576e-05, 1.87250960e-04,\n",
      "        2.03019241e-04])\n",
      "tensor(0.70921546)\n",
      "tensor(0.35734466)\n"
     ]
    }
   ],
   "source": [
    "saveFile = \"data/case30/RNN_out/hidden_dim100/S1\"\n",
    "yHatTest_best_mean_RNN = torch.from_numpy(np.load(saveFile+'yHatTest_best_mean.npy'))\n",
    "print(yHatTest_best_mean_RNN.shape)\n",
    "\n",
    "wd_RNN = []\n",
    "for i in range(53):\n",
    "    wd = wasserstein_distance(yTest[:,i], yHatTest_best_mean_RNN[:,i])\n",
    "    wd_RNN.append(wd)\n",
    "    \n",
    "wd_RNN = torch.Tensor(wd_RNN)\n",
    "\n",
    "print(wd_RNN)\n",
    "print(torch.mean(wd_RNN[0:29])/ 0.0001)\n",
    "print(torch.mean(wd_RNN[29:53])/ 0.0001)"
   ]
  },
  {
   "cell_type": "code",
   "execution_count": 13,
   "metadata": {},
   "outputs": [
    {
     "name": "stdout",
     "output_type": "stream",
     "text": [
      "tensor([[-3.15413214e-02, -6.23801760e-02, -7.42091089e-02,  ...,\n",
      "          9.52610135e-01,  9.24534023e-01,  8.88841450e-01],\n",
      "        [ 1.43868178e-02, -1.26548707e-02, -1.39642060e-02,  ...,\n",
      "          9.67088401e-01,  9.25492167e-01,  9.08217549e-01],\n",
      "        [-1.69896595e-02, -4.92592864e-02, -5.83468899e-02,  ...,\n",
      "          9.58350778e-01,  9.40717518e-01,  9.16430652e-01],\n",
      "        ...,\n",
      "        [ 1.30834188e-02, -6.38176873e-03, -6.54119393e-03,  ...,\n",
      "          9.71043944e-01,  9.24450755e-01,  8.98573756e-01],\n",
      "        [-1.87407658e-02, -5.86486347e-02, -6.99742660e-02,  ...,\n",
      "          9.49258924e-01,  9.22573566e-01,  9.09953415e-01],\n",
      "        [ 9.16717399e-04, -2.72152182e-02, -3.14548016e-02,  ...,\n",
      "          9.63549733e-01,  9.16966319e-01,  9.02584434e-01]])\n"
     ]
    }
   ],
   "source": [
    "print(yHatTest_best_mean_RNN)"
   ]
  },
  {
   "cell_type": "code",
   "execution_count": 14,
   "metadata": {},
   "outputs": [
    {
     "name": "stdout",
     "output_type": "stream",
     "text": [
      "torch.Size([4000, 53])\n",
      "tensor([3.05414505e-05, 2.96190992e-05, 3.72696086e-05, 4.65444100e-05,\n",
      "        4.72100146e-05, 4.60610281e-05, 5.05705284e-05, 6.96302159e-05,\n",
      "        7.47863742e-05, 6.92538961e-05, 7.04323829e-05, 7.48584862e-05,\n",
      "        7.52716005e-05, 8.07448669e-05, 7.57401140e-05, 7.80715272e-05,\n",
      "        7.95653614e-05, 8.18072949e-05, 8.14852538e-05, 8.41364017e-05,\n",
      "        8.30767967e-05, 9.79033794e-05, 8.88928917e-05, 9.99566473e-05,\n",
      "        1.04234241e-04, 1.13323244e-04, 5.35244653e-05, 1.43081546e-04,\n",
      "        1.44110410e-04, 2.63189686e-05, 3.03952329e-05, 2.99629282e-05,\n",
      "        2.64615210e-05, 3.01662458e-05, 4.01796278e-05, 1.83897446e-05,\n",
      "        1.09494322e-05, 1.57011218e-05, 2.90409771e-05, 2.11492552e-05,\n",
      "        1.35594610e-05, 2.61350215e-05, 1.60252876e-05, 1.42829686e-05,\n",
      "        1.08977265e-05, 1.11434665e-05, 7.82213556e-06, 1.73631524e-05,\n",
      "        2.09951850e-05, 5.72552963e-05, 2.89777490e-05, 1.98086549e-04,\n",
      "        2.07942809e-04])\n",
      "tensor(0.76265645)\n",
      "tensor(0.37883413)\n"
     ]
    }
   ],
   "source": [
    "saveFile = \"data/case30/RNN_LR_without/hidden_dim100/S2\"\n",
    "yHatTest_best_mean_RNN_LR_without = torch.from_numpy(np.load(saveFile+'yHatTest_best_mean.npy'))\n",
    "print(yHatTest_best_mean_RNN_LR_without.shape)\n",
    "\n",
    "wd_RNN_LR_without = []\n",
    "for i in range(53):\n",
    "    wd = wasserstein_distance(yTest[:,i], yHatTest_best_mean_RNN_LR_without[:,i])\n",
    "    wd_RNN_LR_without.append(wd)\n",
    "    \n",
    "wd_RNN_LR_without = torch.Tensor(wd_RNN_LR_without) \n",
    "\n",
    "print(wd_RNN_LR_without)\n",
    "print(torch.mean(wd_RNN_LR_without[0:29])/ 0.0001)\n",
    "print(torch.mean(wd_RNN_LR_without[29:53])/ 0.0001)"
   ]
  },
  {
   "cell_type": "code",
   "execution_count": 15,
   "metadata": {},
   "outputs": [
    {
     "name": "stdout",
     "output_type": "stream",
     "text": [
      "tensor([[-3.15441713e-02, -6.23603277e-02, -7.41597340e-02,  ...,\n",
      "          9.52644169e-01,  9.24525380e-01,  8.88792694e-01],\n",
      "        [ 1.44063830e-02, -1.26361130e-02, -1.38320001e-02,  ...,\n",
      "          9.67235923e-01,  9.25488830e-01,  9.08215225e-01],\n",
      "        [-1.69583317e-02, -4.92860749e-02, -5.83347455e-02,  ...,\n",
      "          9.58295524e-01,  9.40681815e-01,  9.16391969e-01],\n",
      "        ...,\n",
      "        [ 1.33124981e-02, -6.22913335e-03, -6.09441381e-03,  ...,\n",
      "          9.71459746e-01,  9.24580216e-01,  8.98499966e-01],\n",
      "        [-1.86564885e-02, -5.85749149e-02, -6.99411780e-02,  ...,\n",
      "          9.49364364e-01,  9.22550559e-01,  9.09943283e-01],\n",
      "        [ 9.56486911e-04, -2.72127092e-02, -3.15121599e-02,  ...,\n",
      "          9.63575006e-01,  9.16916668e-01,  9.02580559e-01]])\n"
     ]
    }
   ],
   "source": [
    "print(yHatTest_best_mean_RNN_LR_without)"
   ]
  },
  {
   "cell_type": "code",
   "execution_count": 16,
   "metadata": {},
   "outputs": [
    {
     "name": "stdout",
     "output_type": "stream",
     "text": [
      "torch.Size([4000, 53])\n",
      "tensor([2.72457528e-05, 4.08419146e-05, 2.62440190e-05, 2.56416333e-05,\n",
      "        3.26287336e-05, 4.74575536e-05, 3.50555492e-05, 4.81706229e-05,\n",
      "        5.00448841e-05, 4.76988243e-05, 5.48817479e-05, 6.29505739e-05,\n",
      "        5.97170401e-05, 5.55992410e-05, 5.65352748e-05, 5.10618811e-05,\n",
      "        6.20699357e-05, 5.57623243e-05, 5.50707191e-05, 5.44305840e-05,\n",
      "        5.52281745e-05, 7.18042720e-05, 6.12583026e-05, 7.18113224e-05,\n",
      "        6.72785463e-05, 7.16135110e-05, 4.54101137e-05, 7.96243767e-05,\n",
      "        8.04304582e-05, 1.87404785e-05, 1.82004587e-05, 1.50079095e-05,\n",
      "        2.29187390e-05, 1.87066507e-05, 2.84345551e-05, 1.94225067e-05,\n",
      "        1.78925347e-05, 2.49737423e-05, 1.81659889e-05, 2.33419214e-05,\n",
      "        1.17899899e-05, 2.23371717e-05, 1.10290521e-05, 3.32923992e-05,\n",
      "        1.73811932e-05, 1.56035512e-05, 3.72220779e-06, 4.63715369e-05,\n",
      "        2.80379918e-05, 5.95256679e-05, 2.00932682e-05, 8.69215364e-05,\n",
      "        1.01629543e-04])\n",
      "tensor(0.53571308)\n",
      "tensor(0.28480858)\n"
     ]
    }
   ],
   "source": [
    "saveFile = \"data/case30/RNN_LR/hidden_dim100/S3\"\n",
    "yHatTest_best_mean_RNN_LR = torch.from_numpy(np.load(saveFile+'yHatTest_best_mean.npy'))\n",
    "print(yHatTest_best_mean_RNN_LR.shape)\n",
    "\n",
    "wd_RNN_LR = []\n",
    "for i in range(53):\n",
    "    wd = wasserstein_distance(yTest[:,i], yHatTest_best_mean_RNN_LR[:,i])\n",
    "    wd_RNN_LR.append(wd)\n",
    "    \n",
    "wd_RNN_LR = torch.Tensor(wd_RNN_LR) \n",
    "\n",
    "print(wd_RNN_LR)\n",
    "print(torch.mean(wd_RNN_LR[0:29])/ 0.0001)\n",
    "print(torch.mean(wd_RNN_LR[29:53])/ 0.0001)"
   ]
  },
  {
   "cell_type": "code",
   "execution_count": 17,
   "metadata": {},
   "outputs": [
    {
     "name": "stdout",
     "output_type": "stream",
     "text": [
      "tensor([[-0.03154052, -0.06237161, -0.07413338,  ...,  0.95269585,\n",
      "          0.92453098,  0.88876933],\n",
      "        [ 0.01433103, -0.01273313, -0.01393515,  ...,  0.96710145,\n",
      "          0.92551553,  0.90820503],\n",
      "        [-0.01707885, -0.04945415, -0.05850548,  ...,  0.95809382,\n",
      "          0.94035655,  0.91600817],\n",
      "        ...,\n",
      "        [ 0.01315163, -0.00637378, -0.00630497,  ...,  0.97114849,\n",
      "          0.92462790,  0.89849967],\n",
      "        [-0.01873787, -0.05866629, -0.07002838,  ...,  0.94922769,\n",
      "          0.92259920,  0.90996569],\n",
      "        [ 0.00098465, -0.02718794, -0.03145126,  ...,  0.96364963,\n",
      "          0.91719323,  0.90284431]])\n"
     ]
    }
   ],
   "source": [
    "print(yHatTest_best_mean_RNN_LR)"
   ]
  },
  {
   "cell_type": "code",
   "execution_count": 18,
   "metadata": {},
   "outputs": [
    {
     "name": "stdout",
     "output_type": "stream",
     "text": [
      "tensor([4.14900533e-05, 1.87302503e-05, 2.55920313e-05, 3.98927659e-05,\n",
      "        3.89793859e-05, 3.56060045e-05, 6.12321674e-05, 4.05763021e-05,\n",
      "        4.66759047e-05, 4.36739247e-05, 4.99579910e-05, 6.85845516e-05,\n",
      "        4.95941895e-05, 5.32844715e-05, 4.92432628e-05, 4.59286675e-05,\n",
      "        5.02595904e-05, 4.71694693e-05, 4.56288144e-05, 4.95034583e-05,\n",
      "        5.02153962e-05, 5.81458153e-05, 5.47540330e-05, 6.07977054e-05,\n",
      "        6.05437781e-05, 6.35824399e-05, 3.47744171e-05, 7.15291317e-05,\n",
      "        7.73283246e-05, 1.79695489e-05, 2.76568117e-05, 2.61353416e-05,\n",
      "        5.77323153e-05, 1.87261157e-05, 2.73961996e-05, 2.09699574e-05,\n",
      "        3.49483489e-05, 1.63515688e-05, 1.36619374e-05, 2.85840106e-05,\n",
      "        1.04620167e-05, 2.56095864e-05, 1.15626053e-05, 9.71306144e-06,\n",
      "        9.78129356e-06, 9.17484886e-06, 2.18893256e-05, 8.59210741e-06,\n",
      "        2.56773965e-05, 4.76321256e-05, 1.81388987e-05, 5.42930575e-05,\n",
      "        6.21868312e-05])\n",
      "tensor(0.49423251)\n",
      "tensor(0.25201887)\n"
     ]
    }
   ],
   "source": [
    "saveFile = \"data/case30/RNN_LR_S/hidden_dim100/S3\"\n",
    "yHatTest_best_mean_RNN_LR_S = torch.from_numpy(np.load(saveFile+'yHatTest_best_mean.npy'))\n",
    "\n",
    "wd_RNN_LR_S = []\n",
    "for i in range(53):\n",
    "    wd = wasserstein_distance(yTest[:,i], yHatTest_best_mean_RNN_LR_S[:,i])\n",
    "    wd_RNN_LR_S.append(wd)\n",
    "    \n",
    "wd_RNN_LR_S = torch.Tensor(wd_RNN_LR_S)\n",
    "\n",
    "print(wd_RNN_LR_S)\n",
    "print(torch.mean(wd_RNN_LR_S[0:29])/ 0.0001)\n",
    "print(torch.mean(wd_RNN_LR_S[29:53])/ 0.0001)"
   ]
  },
  {
   "cell_type": "code",
   "execution_count": 19,
   "metadata": {},
   "outputs": [
    {
     "name": "stdout",
     "output_type": "stream",
     "text": [
      "tensor([[-0.03148112, -0.06232568, -0.07411175,  ...,  0.95266104,\n",
      "          0.92468566,  0.88894004],\n",
      "        [ 0.01439165, -0.01268366, -0.01390091,  ...,  0.96712953,\n",
      "          0.92554492,  0.90825522],\n",
      "        [-0.01705410, -0.04942713, -0.05852158,  ...,  0.95801818,\n",
      "          0.94040287,  0.91606969],\n",
      "        ...,\n",
      "        [ 0.01321500, -0.00636152, -0.00626926,  ...,  0.97115439,\n",
      "          0.92470801,  0.89862287],\n",
      "        [-0.01867427, -0.05864256, -0.07001957,  ...,  0.94927120,\n",
      "          0.92262936,  0.91000211],\n",
      "        [ 0.00102659, -0.02715653, -0.03144927,  ...,  0.96364272,\n",
      "          0.91722345,  0.90288144]])\n"
     ]
    }
   ],
   "source": [
    "print(yHatTest_best_mean_RNN_LR_S)"
   ]
  },
  {
   "cell_type": "code",
   "execution_count": 5,
   "metadata": {},
   "outputs": [
    {
     "name": "stdout",
     "output_type": "stream",
     "text": [
      "tensor(0.70183545)\n",
      "tensor(0.32911220)\n"
     ]
    }
   ],
   "source": [
    "saveFile = \"data/case30/J_delta/hidden_dim100/S1\"\n",
    "yHatTest_best_mean_RNN_LR_S_delta = torch.from_numpy(np.load(saveFile+'yHatTest_best_mean.npy'))\n",
    "\n",
    "wd_RNN_LR_S_delta = []\n",
    "for i in range(53):\n",
    "    wd = wasserstein_distance(yTest[:,i], yHatTest_best_mean_RNN_LR_S_delta[:,i])\n",
    "    wd_RNN_LR_S_delta.append(wd)\n",
    "    \n",
    "wd_RNN_LR_S_delta = torch.Tensor(wd_RNN_LR_S_delta)\n",
    "\n",
    "#print(wd_RNN_LR_S_delta)\n",
    "print(torch.mean(wd_RNN_LR_S_delta[0:29])/ 0.0001)\n",
    "print(torch.mean(wd_RNN_LR_S_delta[29:53])/ 0.0001)"
   ]
  },
  {
   "cell_type": "code",
   "execution_count": null,
   "metadata": {},
   "outputs": [],
   "source": []
  }
 ],
 "metadata": {
  "kernelspec": {
   "display_name": "Python 3",
   "language": "python",
   "name": "python3"
  },
  "language_info": {
   "codemirror_mode": {
    "name": "ipython",
    "version": 3
   },
   "file_extension": ".py",
   "mimetype": "text/x-python",
   "name": "python",
   "nbconvert_exporter": "python",
   "pygments_lexer": "ipython3",
   "version": "3.7.4"
  }
 },
 "nbformat": 4,
 "nbformat_minor": 2
}
