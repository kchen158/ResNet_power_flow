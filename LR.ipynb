{
 "cells": [
  {
   "cell_type": "code",
   "execution_count": 1,
   "metadata": {},
   "outputs": [],
   "source": [
    "import argparse\n",
    "import os\n",
    "import numpy as np\n",
    "import math\n",
    "import sys\n",
    "import torch\n",
    "import torch.distributions as distributions\n",
    "import torchvision.transforms as transforms\n",
    "from torchvision.utils import save_image\n",
    "import torch.utils.data as Data\n",
    "from torch.utils.data import DataLoader\n",
    "from torchvision import datasets\n",
    "from torch.autograd import Variable\n",
    "import torch.nn as nn\n",
    "import torch.nn.functional as F\n",
    "import torch\n",
    "from scipy.io import savemat\n",
    "import scipy.io as sio\n",
    "import sys\n",
    "import importlib\n",
    "import datetime\n",
    "import itertools\n",
    "import pickle\n",
    "import scipy\n",
    "import matplotlib\n",
    "import matplotlib.pyplot as plt\n",
    "import numpy as np\n",
    "from numpy import cov\n",
    "from numpy import trace\n",
    "from numpy import iscomplexobj\n",
    "from numpy.random import random\n",
    "from scipy.linalg import sqrtm\n",
    "from sklearn.preprocessing import MinMaxScaler\n",
    "from sklearn.linear_model import LinearRegression\n",
    "from sklearn.linear_model import Ridge"
   ]
  },
  {
   "cell_type": "code",
   "execution_count": 2,
   "metadata": {},
   "outputs": [],
   "source": [
    "data_dir = \"data/case30\"\n",
    "case_dir = os.path.join(data_dir)\n",
    "number = 20000\n",
    "train_index = 12000\n",
    "valid_index = 16000\n",
    "saveFile = \"data/case30/LR_out/\""
   ]
  },
  {
   "cell_type": "code",
   "execution_count": 3,
   "metadata": {},
   "outputs": [
    {
     "name": "stdout",
     "output_type": "stream",
     "text": [
      "(20000, 53)\n",
      "torch.Size([4000, 53])\n",
      "torch.Size([12000, 53])\n",
      "torch.Size([4000, 53])\n"
     ]
    }
   ],
   "source": [
    "#input data\n",
    "mat_input = os.path.join(case_dir, 'inputdata_sample.mat')\n",
    "PQ_injection = np.transpose(scipy.io.loadmat(mat_input)['sampledata'])[0:number,:]\n",
    "P_injection = PQ_injection.real\n",
    "Q_injection = PQ_injection.imag\n",
    "# print(Q_injection.shape)\n",
    "pv = [1-1,2-1,13-1,22-1,23-1,27-1]\n",
    "slack = 1-1\n",
    "P_injection = np.delete(P_injection,slack,1)\n",
    "Q_injection = np.delete(Q_injection,pv,1)\n",
    "# print(Q_injection.shape)\n",
    "PQ_injection = np.concatenate([P_injection, Q_injection], axis=1)       \n",
    "print(PQ_injection.shape)\n",
    "#output data\n",
    "mat_ang = os.path.join(case_dir, 'voltage_ang_reduced.mat')\n",
    "mat_mag = os.path.join(case_dir, 'voltage_mag_reduced.mat')\n",
    "voltage_ang = np.transpose(scipy.io.loadmat(mat_ang)['voltage_ang_reduced'])[0:number,:]\n",
    "voltage_mag = np.transpose(scipy.io.loadmat(mat_mag)['voltage_mag_reduced'])[0:number,:]\n",
    "voltage =  np.concatenate([voltage_ang,voltage_mag], axis=1) \n",
    "yTrain = torch.from_numpy(voltage[0:train_index,:])\n",
    "xTrain = torch.from_numpy(PQ_injection[0:train_index,:])\n",
    "\n",
    "yValid = torch.from_numpy(voltage[train_index:valid_index,:])\n",
    "xValid = torch.from_numpy(PQ_injection[train_index:valid_index,:])\n",
    "\n",
    "yTest = torch.from_numpy(voltage[valid_index:number,:])\n",
    "xTest = torch.from_numpy(PQ_injection[valid_index:number,:])\n",
    "\n",
    "dataset = torch.utils.data.TensorDataset(xTrain, yTrain)\n",
    "print(xValid.shape)\n",
    "print(xTrain.shape)\n",
    "print(xTest.shape)"
   ]
  },
  {
   "cell_type": "code",
   "execution_count": 4,
   "metadata": {},
   "outputs": [
    {
     "name": "stdout",
     "output_type": "stream",
     "text": [
      "tensor([[ 0.4118, -0.0481, -0.0867,  ..., -0.0166, -0.0508, -0.1126],\n",
      "        [ 0.7995, -0.0416, -0.0886,  ..., -0.0131, -0.0724, -0.0762],\n",
      "        [ 0.5675, -0.0451, -0.0884,  ..., -0.0196, -0.0453, -0.0785],\n",
      "        ...,\n",
      "        [ 0.6787, -0.0395, -0.0917,  ..., -0.0152, -0.0627, -0.0939],\n",
      "        [ 0.7119, -0.0383, -0.0912,  ..., -0.0119, -0.0818, -0.0694],\n",
      "        [ 0.6999, -0.0431, -0.0938,  ..., -0.0116, -0.0865, -0.0769]],\n",
      "       dtype=torch.float64)\n",
      "tensor([[-0.0316, -0.0624, -0.0742,  ...,  0.9527,  0.9246,  0.8888],\n",
      "        [ 0.0144, -0.0127, -0.0139,  ...,  0.9671,  0.9257,  0.9083],\n",
      "        [-0.0171, -0.0495, -0.0586,  ...,  0.9580,  0.9403,  0.9161],\n",
      "        ...,\n",
      "        [ 0.0132, -0.0063, -0.0062,  ...,  0.9707,  0.9248,  0.8988],\n",
      "        [-0.0187, -0.0587, -0.0701,  ...,  0.9495,  0.9227,  0.9099],\n",
      "        [ 0.0010, -0.0272, -0.0315,  ...,  0.9637,  0.9172,  0.9028]],\n",
      "       dtype=torch.float64)\n"
     ]
    }
   ],
   "source": [
    "print(xTest)\n",
    "print(yTest)"
   ]
  },
  {
   "cell_type": "code",
   "execution_count": 54,
   "metadata": {},
   "outputs": [],
   "source": [
    "cuda = True if torch.cuda.is_available() else False\n",
    "Tensor = torch.cuda.FloatTensor if cuda else torch.FloatTensor\n",
    "reg = Ridge(alpha = 0.0001).fit(xTrain, yTrain)\n",
    "initial_weight_original = reg.coef_\n",
    "initial_bias_original = reg.intercept_"
   ]
  },
  {
   "cell_type": "code",
   "execution_count": 52,
   "metadata": {},
   "outputs": [
    {
     "name": "stdout",
     "output_type": "stream",
     "text": [
      "[[ 5.60702363e-02  6.33514820e+08 -1.81420605e+08 ...  1.12455925e+07\n",
      "   7.89758287e+07 -1.15172864e+08]\n",
      " [ 3.35620452e-02 -1.68096358e+07  7.08865947e+06 ...  5.82388469e+05\n",
      "   1.82397497e+06 -3.92072345e+06]\n",
      " [ 4.08150800e-02 -5.12817713e+06  4.50923105e+06 ...  1.08625266e+06\n",
      "   4.59968589e+06 -8.39305164e+06]\n",
      " ...\n",
      " [-4.41134305e-04 -1.72961416e+08  5.42843335e+07 ... -1.22995178e+06\n",
      "  -1.33724144e+07  1.68671470e+07]\n",
      " [-1.17775118e-05 -1.01169872e+09  2.93154978e+08 ... -1.66294845e+07\n",
      "  -1.20205921e+08  1.73397189e+08]\n",
      " [-1.01061210e-05 -1.44410416e+09  4.16355276e+08 ... -2.45484297e+07\n",
      "  -1.75193416e+08  2.53935353e+08]]\n",
      "[ 190186.22102219  497456.36094835  670125.83744021  482879.90135177\n",
      "  854429.84011777  792010.90992221  990468.67972027 1533492.67931789\n",
      " 1647234.38050711 1533606.24184042 1477203.4790188  1449799.15891404\n",
      " 1567054.32397042 1637032.06312063 1662870.27277613 1652817.20614092\n",
      " 1670211.01155078 1666899.61655542 1663880.10598993 1802788.19117273\n",
      " 1849283.00810575 1885957.14974208 1945800.5427244  2209259.4555867\n",
      " 2306498.04864871 2336376.29960109 1125178.45778806 2728124.63280598\n",
      " 2616188.51943463  408515.30635002  560162.05992433  577842.09740113\n",
      "  848060.39944419  851749.11626748  993362.6192961   629255.76015054\n",
      "  254669.3179115   629959.5345395   -41595.42776332   19985.7895055\n",
      "   18507.79044444  114844.60244591  179692.06173943   43989.9323173\n",
      "   88994.03467106  122765.1849069    65118.40909824  226808.52015046\n",
      "  366906.80473148  595374.62260863  998010.27426882  454670.83414533\n",
      "  186069.78100839]\n"
     ]
    }
   ],
   "source": [
    "print(initial_weight_original)\n",
    "print(initial_bias_original)"
   ]
  },
  {
   "cell_type": "code",
   "execution_count": 55,
   "metadata": {},
   "outputs": [
    {
     "name": "stdout",
     "output_type": "stream",
     "text": [
      "torch.Size([4000, 53])\n"
     ]
    }
   ],
   "source": [
    "yhatTest = torch.from_numpy(reg.predict(xTest))\n",
    "print(yhatTest.shape)"
   ]
  },
  {
   "cell_type": "code",
   "execution_count": 57,
   "metadata": {},
   "outputs": [
    {
     "name": "stdout",
     "output_type": "stream",
     "text": [
      "torch.Size([53])\n",
      "tensor(0.0004, dtype=torch.float64)\n",
      "tensor(0.0002, dtype=torch.float64)\n"
     ]
    }
   ],
   "source": [
    "rmse_test = torch.sqrt(torch.mean((yhatTest  - yTest.float())**2,axis = 0))\n",
    "print(rmse_test.shape)\n",
    "rmse_ang_test = torch.mean(rmse_test[0:29])\n",
    "rmse_mag_test = torch.mean(rmse_test[29:53])\n",
    "print(rmse_ang_test)\n",
    "print(rmse_mag_test)"
   ]
  },
  {
   "cell_type": "code",
   "execution_count": 7,
   "metadata": {},
   "outputs": [
    {
     "name": "stdout",
     "output_type": "stream",
     "text": [
      "torch.Size([4000, 53])\n"
     ]
    }
   ],
   "source": [
    "yHatTest = torch.from_numpy(reg.predict(xTest))\n",
    "print(yHatTest.shape)"
   ]
  },
  {
   "cell_type": "code",
   "execution_count": 10,
   "metadata": {},
   "outputs": [
    {
     "name": "stdout",
     "output_type": "stream",
     "text": [
      "tensor([[-0.03154915, -0.06235278, -0.07415879,  ...,  0.95265453,\n",
      "          0.92456699,  0.88881422],\n",
      "        [ 0.01452604, -0.01251116, -0.01367367,  ...,  0.96750754,\n",
      "          0.92553970,  0.90824237],\n",
      "        [-0.01705299, -0.04936830, -0.05846079,  ...,  0.95810817,\n",
      "          0.94071741,  0.91640618],\n",
      "        ...,\n",
      "        [ 0.01353708, -0.00600337, -0.00579336,  ...,  0.97194744,\n",
      "          0.92464145,  0.89853910],\n",
      "        [-0.01856125, -0.05847220, -0.06981204,  ...,  0.94958592,\n",
      "          0.92260769,  0.90997718],\n",
      "        [ 0.00097786, -0.02718318, -0.03148452,  ...,  0.96363609,\n",
      "          0.91695197,  0.90259371]], dtype=torch.float64)\n"
     ]
    }
   ],
   "source": [
    "print(yHatTest)"
   ]
  },
  {
   "cell_type": "code",
   "execution_count": 8,
   "metadata": {},
   "outputs": [
    {
     "name": "stdout",
     "output_type": "stream",
     "text": [
      "torch.Size([53])\n",
      "tensor(0.00036650, dtype=torch.float64)\n",
      "tensor(0.00017872, dtype=torch.float64)\n"
     ]
    }
   ],
   "source": [
    "torch.set_printoptions(precision=8)\n",
    "rmse_test = torch.sqrt(torch.mean((yHatTest  - yTest.float())**2,axis = 0))\n",
    "print(rmse_test.shape)\n",
    "rmse_ang_test = torch.mean(rmse_test[0:29])\n",
    "rmse_mag_test = torch.mean(rmse_test[29:53])\n",
    "print(rmse_ang_test)\n",
    "print(rmse_mag_test)"
   ]
  },
  {
   "cell_type": "code",
   "execution_count": 9,
   "metadata": {},
   "outputs": [],
   "source": [
    "np.save(saveFile+'rmse_test_best',rmse_test)\n",
    "np.save(saveFile+'yHatTest_best',yHatTest.detach().numpy())\n",
    "np.save(saveFile+'yHatTest',yHatTest)"
   ]
  },
  {
   "cell_type": "code",
   "execution_count": null,
   "metadata": {},
   "outputs": [],
   "source": []
  },
  {
   "cell_type": "code",
   "execution_count": null,
   "metadata": {},
   "outputs": [],
   "source": []
  }
 ],
 "metadata": {
  "kernelspec": {
   "display_name": "Python 3 (ipykernel)",
   "language": "python",
   "name": "python3"
  },
  "language_info": {
   "codemirror_mode": {
    "name": "ipython",
    "version": 3
   },
   "file_extension": ".py",
   "mimetype": "text/x-python",
   "name": "python",
   "nbconvert_exporter": "python",
   "pygments_lexer": "ipython3",
   "version": "3.7.4"
  }
 },
 "nbformat": 4,
 "nbformat_minor": 2
}
